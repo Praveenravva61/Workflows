{
 "cells": [
  {
   "cell_type": "code",
   "execution_count": 11,
   "id": "c3cd846a",
   "metadata": {},
   "outputs": [],
   "source": [
    "from langgraph.graph import StateGraph, START, END, add_messages\n",
    "from langchain_openai import ChatOpenAI\n",
    "from dotenv import load_dotenv\n",
    "from langchain_core.messages import BaseMessage, HumanMessage\n",
    "from typing import TypedDict, Annotated, Literal\n",
    "from pydantic import BaseModel, Field\n",
    "import operator\n",
    "import os\n",
    "import warnings\n",
    "warnings.filterwarnings(\"ignore\")"
   ]
  },
  {
   "cell_type": "code",
   "execution_count": 12,
   "id": "8d1d7890",
   "metadata": {},
   "outputs": [],
   "source": [
    "load_dotenv()\n",
    "\n",
    "PERPLEXITY_API_KEY = os.getenv(\"PERPLEXITY_API_KEY\")\n",
    "\n",
    "model = ChatOpenAI(\n",
    "    model=\"sonar\",                     # base Sonar model\n",
    "    base_url=\"https://api.perplexity.ai\",\n",
    "    api_key=PERPLEXITY_API_KEY,\n",
    "    temperature=0.7\n",
    ")"
   ]
  },
  {
   "cell_type": "code",
   "execution_count": 13,
   "id": "183374df",
   "metadata": {},
   "outputs": [
    {
     "data": {
      "text/plain": [
       "AIMessage(content='The capital of India is **New Delhi**[1][2][3][6][7].\\n\\nNew Delhi is a part of the larger National Capital Territory (NCT) of Delhi and serves as the seat of all three branches of the Government of India, including the Presidential Palace (Rashtrapati Bhavan), Parliament House (Sansad Bhavan), and the Supreme Court. It was officially inaugurated as the capital in 1931 after King George V moved the capital from Calcutta (now Kolkata) to Delhi in 1911[1][3][6][7].\\n\\nWhile \"Delhi\" refers to the broader metropolitan area and union territory, New Delhi specifically designates the city area that functions as the national capital[1][2].', additional_kwargs={'refusal': None}, response_metadata={'token_usage': {'completion_tokens': 153, 'prompt_tokens': 6, 'total_tokens': 159, 'completion_tokens_details': None, 'prompt_tokens_details': None, 'search_context_size': 'low', 'cost': {'input_tokens_cost': 0.0, 'output_tokens_cost': 0.0, 'request_cost': 0.005, 'total_cost': 0.005}}, 'model_name': 'sonar', 'system_fingerprint': None, 'id': 'ac003aba-e2f7-46aa-a8b1-44767f2b9804', 'service_tier': None, 'finish_reason': 'stop', 'logprobs': None}, id='run--7b0d453e-bf28-467a-b975-e89f8d4d2d59-0', usage_metadata={'input_tokens': 6, 'output_tokens': 153, 'total_tokens': 159, 'input_token_details': {}, 'output_token_details': {}})"
      ]
     },
     "execution_count": 13,
     "metadata": {},
     "output_type": "execute_result"
    }
   ],
   "source": [
    "model.invoke('what is the capital of india')"
   ]
  },
  {
   "cell_type": "code",
   "execution_count": 14,
   "id": "f01e62a0",
   "metadata": {},
   "outputs": [],
   "source": [
    "class schema(TypedDict):\n",
    "    message: Annotated[list[BaseMessage], add_messages]"
   ]
  },
  {
   "cell_type": "code",
   "execution_count": 15,
   "id": "569f9dd2",
   "metadata": {},
   "outputs": [],
   "source": [
    "def chat_node(state: schema):\n",
    "    message= state['message']\n",
    "    \n",
    "    response  = model.invoke(message)\n",
    "    \n",
    "    return {\"message\": [response]}\n",
    "    "
   ]
  },
  {
   "cell_type": "code",
   "execution_count": 16,
   "id": "eda89016",
   "metadata": {},
   "outputs": [],
   "source": [
    "graph = StateGraph(schema)\n",
    "\n",
    "graph.add_node(\"chat_node\", chat_node)\n",
    "\n",
    "graph.add_edge(START, \"chat_node\")\n",
    "graph.add_edge(\"chat_node\", END)\n",
    "\n",
    "chatbot= graph.compile()"
   ]
  },
  {
   "cell_type": "code",
   "execution_count": 17,
   "id": "eb21c458",
   "metadata": {},
   "outputs": [
    {
     "data": {
      "image/png": "[encoded data removed]",
      "text/plain": [
       "<langgraph.graph.state.CompiledStateGraph object at 0x00000249C91F9E50>"
      ]
     },
     "execution_count": 17,
     "metadata": {},
     "output_type": "execute_result"
    }
   ],
   "source": [
    "chatbot"
   ]
  },
  {
   "cell_type": "code",
   "execution_count": 18,
   "id": "4590e7e5",
   "metadata": {},
   "outputs": [],
   "source": [
    "initial_state= {\"message\":[HumanMessage(content= \"what is the capital of india\")]}"
   ]
  },
  {
   "cell_type": "code",
   "execution_count": 19,
   "id": "d1daba15",
   "metadata": {},
   "outputs": [
    {
     "name": "stdout",
     "output_type": "stream",
     "text": [
      "{'message': [HumanMessage(content='what is the capital of india', additional_kwargs={}, response_metadata={}, id='b8a07624-f83f-4f82-978f-3c2bcacdb77a'), AIMessage(content=\"The capital of India is **New Delhi**. It is a municipality within the National Capital Territory of Delhi (NCT) and serves as the seat of all three branches of the Government of India, including the President's residence, Parliament, and the Supreme Court[1][2][5].\\n\\nNew Delhi was officially inaugurated as the capital in 1931 after the British moved the capital from Calcutta (now Kolkata) to Delhi in 1911. The city was planned and designed by British architects Edwin Lutyens and Herbert Baker[1][3][5].\\n\\nWhile New Delhi is the official capital, it is part of the larger Delhi metropolis, which is a union territory and includes many urban areas beyond just New Delhi itself[2][7].\", additional_kwargs={'refusal': None}, response_metadata={'token_usage': {'completion_tokens': 154, 'prompt_tokens': 6, 'total_tokens': 160, 'completion_tokens_details': None, 'prompt_tokens_details': None, 'search_context_size': 'low', 'cost': {'input_tokens_cost': 0.0, 'output_tokens_cost': 0.0, 'request_cost': 0.005, 'total_cost': 0.005}}, 'model_name': 'sonar', 'system_fingerprint': None, 'id': 'ede235d6-5c9b-42e0-acb4-10bfc8bd5a67', 'service_tier': None, 'finish_reason': 'stop', 'logprobs': None}, id='run--a1f7430c-75b0-4e82-a898-5b4e90b5d9e9-0', usage_metadata={'input_tokens': 6, 'output_tokens': 154, 'total_tokens': 160, 'input_token_details': {}, 'output_token_details': {}})]}\n"
     ]
    }
   ],
   "source": [
    "print(chatbot.invoke(initial_state))"
   ]
  },
  {
   "cell_type": "code",
   "execution_count": 20,
   "id": "f62367d1",
   "metadata": {},
   "outputs": [
    {
     "data": {
      "text/plain": [
       "'The capital of India is **New Delhi**. It is a municipality within the National Capital Territory (NCT) of Delhi and serves as the seat of all three branches of the Government of India, including the Presidential Palace, Parliament House, and the Supreme Court[1][2][3][7][8].\\n\\nNew Delhi was officially inaugurated as the capital in 1931, having been planned and constructed by British architects after the 1911 decision to move the capital from Calcutta (now Kolkata)[1][3][7]. Although \"Delhi\" and \"New Delhi\" are often used interchangeably, New Delhi specifically refers to the smaller administrative area that functions as the capital within the larger Delhi metropolitan region[1][2].\\n\\nThus, **New Delhi** is the recognized capital city of India.'"
      ]
     },
     "execution_count": 20,
     "metadata": {},
     "output_type": "execute_result"
    }
   ],
   "source": [
    "chatbot.invoke(initial_state)['message'][-1].content"
   ]
  },
  {
   "cell_type": "code",
   "execution_count": null,
   "id": "e5094edc",
   "metadata": {},
   "outputs": [],
   "source": []
  }
 ],
 "metadata": {
  "kernelspec": {
   "display_name": "Python 3",
   "language": "python",
   "name": "python3"
  },
  "language_info": {
   "codemirror_mode": {
    "name": "ipython",
    "version": 3
   },
   "file_extension": ".py",
   "mimetype": "text/x-python",
   "name": "python",
   "nbconvert_exporter": "python",
   "pygments_lexer": "ipython3",
   "version": "3.13.7"
  }
 },
 "nbformat": 4,
 "nbformat_minor": 5
}
