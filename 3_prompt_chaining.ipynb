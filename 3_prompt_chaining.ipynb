{
 "cells": [
  {
   "cell_type": "code",
   "execution_count": 7,
   "id": "5a192fb9",
   "metadata": {},
   "outputs": [],
   "source": [
    "from langgraph.graph import StateGraph, START, END\n",
    "from langchain_openai import ChatOpenAI\n",
    "import os\n",
    "from dotenv import load_dotenv\n",
    "from langchain_openai import ChatOpenAI\n",
    "from typing import TypedDict\n",
    "\n",
    "# Load .env file\n",
    "load_dotenv()\n",
    "\n",
    "PERPLEXITY_API_KEY = os.getenv(\"PERPLEXITY_API_KEY\")\n",
    "\n",
    "# Initialize Sonar model\n",
    "model = ChatOpenAI(\n",
    "    model=\"sonar-pro\",\n",
    "    base_url=\"https://api.perplexity.ai\",\n",
    "    api_key=PERPLEXITY_API_KEY,\n",
    "    temperature=0\n",
    ")\n",
    "\n"
   ]
  },
  {
   "cell_type": "code",
   "execution_count": 4,
   "id": "397806c4",
   "metadata": {},
   "outputs": [
    {
     "data": {
      "text/plain": [
       "AIMessage(content='The capital of India is **New Delhi**[1][3][4][5].\\n\\nNew Delhi serves as the seat of all three branches of the Government of India, including the Presidential Palace (Rashtrapati Bhavan), Parliament House (Sansad Bhavan), and the Supreme Court[1]. It is located in the north-central part of the country, on the west bank of the Yamuna River, and is part of the larger National Capital Territory (NCT) of Delhi[3][4]. \\n\\nWhile the terms \"Delhi\" and \"New Delhi\" are sometimes used interchangeably, **New Delhi** specifically refers to the area that was designed and inaugurated as the capital in 1931, distinct from the historic city of Old Delhi[1][3].', additional_kwargs={'refusal': None}, response_metadata={'token_usage': {'completion_tokens': 158, 'prompt_tokens': 7, 'total_tokens': 165, 'completion_tokens_details': None, 'prompt_tokens_details': None, 'search_context_size': 'low', 'cost': {'input_tokens_cost': 0.0, 'output_tokens_cost': 0.002, 'request_cost': 0.006, 'total_cost': 0.008}}, 'model_name': 'sonar-pro', 'system_fingerprint': None, 'id': '72ade7ae-f151-4fce-834a-d5a7f9e393a0', 'service_tier': None, 'finish_reason': 'stop', 'logprobs': None}, id='run--ef290050-5bef-4c51-acdb-15ed792f5086-0', usage_metadata={'input_tokens': 7, 'output_tokens': 158, 'total_tokens': 165, 'input_token_details': {}, 'output_token_details': {}})"
      ]
     },
     "execution_count": 4,
     "metadata": {},
     "output_type": "execute_result"
    }
   ],
   "source": [
    "model.invoke(\"what is the capital of the india\")"
   ]
  },
  {
   "cell_type": "code",
   "execution_count": 8,
   "id": "75ae1707",
   "metadata": {},
   "outputs": [],
   "source": [
    "class BlogState(TypedDict):\n",
    "\n",
    "    title: str\n",
    "    outline: str\n",
    "    content: str"
   ]
  },
  {
   "cell_type": "code",
   "execution_count": 9,
   "id": "4ef1f024",
   "metadata": {},
   "outputs": [],
   "source": [
    "def create_outline(state: BlogState) -> BlogState:\n",
    "\n",
    "    # fetch title\n",
    "    title = state['title']\n",
    "\n",
    "    # call llm gen outline\n",
    "    prompt = f'Generate a detailed outline for a blog on the topic - {title}'\n",
    "    outline = model.invoke(prompt).content\n",
    "\n",
    "    # update state\n",
    "    state['outline'] = outline\n",
    "\n",
    "    return state"
   ]
  },
  {
   "cell_type": "code",
   "execution_count": 10,
   "id": "7bab2346",
   "metadata": {},
   "outputs": [],
   "source": [
    "def create_blog(state: BlogState) -> BlogState:\n",
    "\n",
    "    title = state['title']\n",
    "    outline = state['outline']\n",
    "\n",
    "    prompt = f'Write a detailed blog on the title - {title} using the follwing outline \\n {outline}'\n",
    "\n",
    "    content = model.invoke(prompt).content\n",
    "\n",
    "    state['content'] = content\n",
    "\n",
    "    return state"
   ]
  },
  {
   "cell_type": "code",
   "execution_count": 11,
   "id": "d49ba7c9",
   "metadata": {},
   "outputs": [],
   "source": [
    "graph = StateGraph(BlogState)\n",
    "\n",
    "# nodes\n",
    "graph.add_node('create_outline', create_outline)\n",
    "graph.add_node('create_blog', create_blog)\n",
    "\n",
    "# edges\n",
    "graph.add_edge(START, 'create_outline')\n",
    "graph.add_edge('create_outline', 'create_blog')\n",
    "graph.add_edge('create_blog', END)\n",
    "\n",
    "workflow = graph.compile()\n"
   ]
  },
  {
   "cell_type": "code",
   "execution_count": 12,
   "id": "e724fda0",
   "metadata": {},
   "outputs": [
    {
     "name": "stdout",
     "output_type": "stream",
     "text": [
      "{'title': 'Rise of AI in India', 'outline': '**Outline: Rise of AI in India**\\n\\n1. **Introduction**\\n   - Brief overview of the global AI revolution and India’s emerging role[2][3].\\n   - Importance of AI for India’s economic and social transformation[4].\\n\\n2. **Current State of AI in India**\\n   - Market size and growth projections:\\n     - AI market projected to reach **$8 billion by 2025**[3].\\n     - Potential to add **$450–500 billion to GDP by 2025**[1][4].\\n     - CAGR of 35–40% in AI sector growth[2][3].\\n   - India’s global position in AI investments and talent:\\n     - 4th highest in private AI investments globally[1].\\n     - AI skill penetration 3x the global average[1].\\n\\n3. **Key Drivers of AI Growth in India**\\n   - **Expanding tech industry** and digital infrastructure[2][3].\\n   - **Government initiatives**:\\n     - National AI Strategy (NITI Aayog)[2][3].\\n     - Digital India, Make in India, Smart Cities Mission[3][4].\\n     - National AI Portal and AI for All program[3].\\n   - **Academic and research ecosystem**:\\n     - Contributions from IITs, IISc, ISI, and other institutions[3].\\n   - **Rise of AI startups** and innovation hubs[3][4].\\n\\n4. **Major Sectors Impacted by AI**\\n   - **Healthcare**: Diagnostics, telemedicine, and personalized care[2][4].\\n   - **Agriculture**: Predictive analytics, crop monitoring, and supply chain optimization[2][4].\\n   - **Banking & Financial Services (BFSI)**: Fraud detection, customer service automation[1][2].\\n   - **Retail & Consumer Goods**: Personalization, inventory management[1].\\n   - **Manufacturing & Energy**: Process automation, predictive maintenance[1][4].\\n   - **Education**: Adaptive learning platforms, skill development[2][4].\\n   - **Urban Planning & Smart Cities**: Traffic management, resource allocation[4].\\n\\n5. **Government Policies and Public-Private Partnerships**\\n   - Overview of policy frameworks and funding[2][3].\\n   - Role of Centres of Excellence (CoE) and research grants[2][4].\\n   - Collaborations with global tech companies (e.g., Microsoft, Google)[2].\\n   - Importance of public-private and multi-stakeholder collaboration[4].\\n\\n6. **Challenges and Barriers**\\n   - **Skill gaps** and need for workforce upskilling[4].\\n   - **Data privacy, ethics, and governance** concerns[4].\\n   - **Sectoral inefficiencies** and digital divide[4].\\n   - **Limited AI investment** compared to global peers[1].\\n\\n7. **Opportunities and the Road Ahead**\\n   - AI as a tool for **inclusive growth** and socio-economic development[4].\\n   - Potential to create a **trillion-dollar digital economy** by 2025[4].\\n   - India’s role in shaping **global AI governance and ethics**[4].\\n   - Vision for “AI for India 2030” and beyond[4].\\n\\n8. **Conclusion**\\n   - Recap of India’s progress and future potential in AI.\\n   - Call to action for continued investment, collaboration, and responsible AI adoption.\\n\\n---\\n\\n**Optional Enhancements:**\\n- **Case Studies**: Highlight successful Indian AI startups or government projects.\\n- **Infographics**: Visualize market growth, sectoral impact, or government initiatives.\\n- **Expert Quotes**: Include remarks from government officials or industry leaders[4].\\n- **Further Reading**: Suggest reports or resources for deeper exploration[1][3][4].', 'content': 'The rise of **Artificial Intelligence (AI) in India** marks a transformative era for the nation, positioning it as a global contender in the AI revolution. As AI reshapes industries worldwide, India’s rapid adoption and innovation are driving significant economic and social change, with the technology poised to unlock new opportunities for growth, inclusion, and governance[2][3][4].\\n\\n---\\n\\n## 1. Introduction\\n\\nThe global AI revolution is accelerating, with nations racing to harness its potential for economic competitiveness and societal advancement. **India’s emerging role** is underscored by its vast talent pool, robust digital infrastructure, and proactive government policies[2][3]. AI is increasingly recognized as a catalyst for India’s economic transformation, with the potential to address complex challenges in healthcare, agriculture, education, and urban development[4].\\n\\n---\\n\\n## 2. Current State of AI in India\\n\\n- **Market Size & Growth Projections**\\n  - The Indian AI market is projected to reach **$8 billion by 2025** and could add **$450–500 billion to GDP by 2025**[1][3][4].\\n  - Growth rates are among the highest globally, with a **CAGR of 35–40%** in the AI sector[2][3].\\n  - By 2027, the market is expected to more than triple to **$17 billion**, making India one of the fastest-growing AI economies[3].\\n\\n- **Global Position in Investments & Talent**\\n  - India ranks **4th globally in private AI investments**[1].\\n  - The country boasts **AI skill penetration 3x the global average**, with over 600,000 AI professionals and 16% of the world’s AI talent[1][3].\\n\\n---\\n\\n## 3. Key Drivers of AI Growth in India\\n\\n- **Expanding Tech Industry & Digital Infrastructure**\\n  - India’s digital ecosystem, including Aadhaar, UPI, DigiLocker, and ONDC, provides a scalable foundation for AI integration[3].\\n  - Over 700 million internet users and widespread smartphone adoption generate vast data for AI model training[3].\\n\\n- **Government Initiatives**\\n  - The **National AI Strategy** (NITI Aayog) sets a roadmap for AI adoption and innovation[2][3].\\n  - Flagship programs like **Digital India**, **Make in India**, and the **Smart Cities Mission** foster AI-driven transformation[3][4].\\n  - The **National AI Portal** and **AI for All** program aim to democratize AI education and awareness[3].\\n\\n- **Academic & Research Ecosystem**\\n  - Leading institutions such as **IITs, IISc, and ISI** drive cutting-edge AI research and talent development[3].\\n\\n- **Rise of AI Startups & Innovation Hubs**\\n  - Over 2,000 AI startups have launched in the past three years, attracting significant investment and fueling innovation[3][4].\\n\\n---\\n\\n## 4. Major Sectors Impacted by AI\\n\\n- **Healthcare**: AI powers diagnostics, telemedicine, and personalized care, improving access and outcomes[2][4].\\n- **Agriculture**: Predictive analytics, crop monitoring, and supply chain optimization enhance productivity and sustainability[2][4].\\n- **Banking & Financial Services (BFSI)**: AI enables fraud detection and customer service automation, boosting efficiency[1][2].\\n- **Retail & Consumer Goods**: Personalization and inventory management are revolutionized by AI-driven insights[1].\\n- **Manufacturing & Energy**: Process automation and predictive maintenance reduce costs and downtime[1][4].\\n- **Education**: Adaptive learning platforms and skill development tools personalize education and bridge gaps[2][4].\\n- **Urban Planning & Smart Cities**: AI optimizes traffic management and resource allocation for smarter urban living[4].\\n\\n---\\n\\n## 5. Government Policies and Public-Private Partnerships\\n\\n- **Policy Frameworks & Funding**\\n  - The government has increased funding for Digital India and AI research, supporting innovation and adoption[2][3].\\n- **Centres of Excellence (CoE) & Research Grants**\\n  - CoEs and targeted grants foster collaboration between academia, industry, and government[2][4].\\n- **Global Tech Collaborations**\\n  - Partnerships with Microsoft, Google, Nvidia, and AWS accelerate AI development and deployment[2].\\n- **Multi-Stakeholder Collaboration**\\n  - Public-private partnerships are essential for scaling AI solutions and ensuring responsible governance[4].\\n\\n---\\n\\n## 6. Challenges and Barriers\\n\\n- **Skill Gaps & Workforce Upskilling**\\n  - Despite strong talent, there is a need for continuous upskilling to meet evolving AI demands[4].\\n- **Data Privacy, Ethics, & Governance**\\n  - Concerns around data protection, algorithmic bias, and ethical use of AI require robust frameworks[4].\\n- **Sectoral Inefficiencies & Digital Divide**\\n  - Uneven access to digital infrastructure and AI resources limits adoption in rural and underserved areas[4].\\n- **Limited AI Investment Compared to Global Peers**\\n  - While investment is growing, it remains lower than in leading AI economies, necessitating further capital inflow[1].\\n\\n---\\n\\n## 7. Opportunities and the Road Ahead\\n\\n- **Inclusive Growth & Socio-Economic Development**\\n  - AI can drive inclusive growth by addressing healthcare, education, and agricultural challenges at scale[4].\\n- **Trillion-Dollar Digital Economy Potential**\\n  - By 2025, AI could help create a **trillion-dollar digital economy**, transforming India’s global economic standing[4].\\n- **Global AI Governance & Ethics**\\n  - India is positioned to shape international norms on AI governance, ethics, and responsible innovation[4].\\n- **Vision for “AI for India 2030”**\\n  - The roadmap envisions widespread AI adoption, equitable access, and leadership in global AI standards[4].\\n\\n---\\n\\n## 8. Conclusion\\n\\nIndia’s progress in AI is reshaping its economic and social landscape, with robust growth, innovation, and policy support driving the sector forward. Continued investment, collaboration, and a focus on responsible AI adoption will be critical to realizing the full potential of AI for India and the world.\\n\\n---\\n\\n### Optional Enhancements\\n\\n- **Case Study**: *Qure.ai*, an Indian startup, uses AI-enabled analysis of chest X-rays for rapid COVID-19 detection, demonstrating the impact of AI in healthcare[1].\\n- **Expert Quote**: “AI will be a key driver in achieving India’s vision of a $5 trillion economy,” notes a senior official from NITI Aayog[4].\\n- **Infographic Suggestion**: Visualize India’s AI market growth, sectoral impact, and government initiatives for quick reference.\\n- **Further Reading**: Explore reports from GMI Research, IMARC Group, BCG, and TechSci Research for deeper insights into India’s AI landscape[1][3][4].'}\n"
     ]
    }
   ],
   "source": [
    "intial_state = {'title': 'Rise of AI in India'}\n",
    "\n",
    "final_state = workflow.invoke(intial_state)\n",
    "\n",
    "print(final_state)"
   ]
  },
  {
   "cell_type": "code",
   "execution_count": 13,
   "id": "bdd8eb97",
   "metadata": {},
   "outputs": [
    {
     "name": "stdout",
     "output_type": "stream",
     "text": [
      "**Outline: Rise of AI in India**\n",
      "\n",
      "1. **Introduction**\n",
      "   - Brief overview of the global AI revolution and India’s emerging role[2][3].\n",
      "   - Importance of AI for India’s economic and social transformation[4].\n",
      "\n",
      "2. **Current State of AI in India**\n",
      "   - Market size and growth projections:\n",
      "     - AI market projected to reach **$8 billion by 2025**[3].\n",
      "     - Potential to add **$450–500 billion to GDP by 2025**[1][4].\n",
      "     - CAGR of 35–40% in AI sector growth[2][3].\n",
      "   - India’s global position in AI investments and talent:\n",
      "     - 4th highest in private AI investments globally[1].\n",
      "     - AI skill penetration 3x the global average[1].\n",
      "\n",
      "3. **Key Drivers of AI Growth in India**\n",
      "   - **Expanding tech industry** and digital infrastructure[2][3].\n",
      "   - **Government initiatives**:\n",
      "     - National AI Strategy (NITI Aayog)[2][3].\n",
      "     - Digital India, Make in India, Smart Cities Mission[3][4].\n",
      "     - National AI Portal and AI for All program[3].\n",
      "   - **Academic and research ecosystem**:\n",
      "     - Contributions from IITs, IISc, ISI, and other institutions[3].\n",
      "   - **Rise of AI startups** and innovation hubs[3][4].\n",
      "\n",
      "4. **Major Sectors Impacted by AI**\n",
      "   - **Healthcare**: Diagnostics, telemedicine, and personalized care[2][4].\n",
      "   - **Agriculture**: Predictive analytics, crop monitoring, and supply chain optimization[2][4].\n",
      "   - **Banking & Financial Services (BFSI)**: Fraud detection, customer service automation[1][2].\n",
      "   - **Retail & Consumer Goods**: Personalization, inventory management[1].\n",
      "   - **Manufacturing & Energy**: Process automation, predictive maintenance[1][4].\n",
      "   - **Education**: Adaptive learning platforms, skill development[2][4].\n",
      "   - **Urban Planning & Smart Cities**: Traffic management, resource allocation[4].\n",
      "\n",
      "5. **Government Policies and Public-Private Partnerships**\n",
      "   - Overview of policy frameworks and funding[2][3].\n",
      "   - Role of Centres of Excellence (CoE) and research grants[2][4].\n",
      "   - Collaborations with global tech companies (e.g., Microsoft, Google)[2].\n",
      "   - Importance of public-private and multi-stakeholder collaboration[4].\n",
      "\n",
      "6. **Challenges and Barriers**\n",
      "   - **Skill gaps** and need for workforce upskilling[4].\n",
      "   - **Data privacy, ethics, and governance** concerns[4].\n",
      "   - **Sectoral inefficiencies** and digital divide[4].\n",
      "   - **Limited AI investment** compared to global peers[1].\n",
      "\n",
      "7. **Opportunities and the Road Ahead**\n",
      "   - AI as a tool for **inclusive growth** and socio-economic development[4].\n",
      "   - Potential to create a **trillion-dollar digital economy** by 2025[4].\n",
      "   - India’s role in shaping **global AI governance and ethics**[4].\n",
      "   - Vision for “AI for India 2030” and beyond[4].\n",
      "\n",
      "8. **Conclusion**\n",
      "   - Recap of India’s progress and future potential in AI.\n",
      "   - Call to action for continued investment, collaboration, and responsible AI adoption.\n",
      "\n",
      "---\n",
      "\n",
      "**Optional Enhancements:**\n",
      "- **Case Studies**: Highlight successful Indian AI startups or government projects.\n",
      "- **Infographics**: Visualize market growth, sectoral impact, or government initiatives.\n",
      "- **Expert Quotes**: Include remarks from government officials or industry leaders[4].\n",
      "- **Further Reading**: Suggest reports or resources for deeper exploration[1][3][4].\n"
     ]
    }
   ],
   "source": [
    "print(final_state['outline'])"
   ]
  },
  {
   "cell_type": "code",
   "execution_count": 14,
   "id": "e38569eb",
   "metadata": {},
   "outputs": [
    {
     "name": "stdout",
     "output_type": "stream",
     "text": [
      "The rise of **Artificial Intelligence (AI) in India** marks a transformative era for the nation, positioning it as a global contender in the AI revolution. As AI reshapes industries worldwide, India’s rapid adoption and innovation are driving significant economic and social change, with the technology poised to unlock new opportunities for growth, inclusion, and governance[2][3][4].\n",
      "\n",
      "---\n",
      "\n",
      "## 1. Introduction\n",
      "\n",
      "The global AI revolution is accelerating, with nations racing to harness its potential for economic competitiveness and societal advancement. **India’s emerging role** is underscored by its vast talent pool, robust digital infrastructure, and proactive government policies[2][3]. AI is increasingly recognized as a catalyst for India’s economic transformation, with the potential to address complex challenges in healthcare, agriculture, education, and urban development[4].\n",
      "\n",
      "---\n",
      "\n",
      "## 2. Current State of AI in India\n",
      "\n",
      "- **Market Size & Growth Projections**\n",
      "  - The Indian AI market is projected to reach **$8 billion by 2025** and could add **$450–500 billion to GDP by 2025**[1][3][4].\n",
      "  - Growth rates are among the highest globally, with a **CAGR of 35–40%** in the AI sector[2][3].\n",
      "  - By 2027, the market is expected to more than triple to **$17 billion**, making India one of the fastest-growing AI economies[3].\n",
      "\n",
      "- **Global Position in Investments & Talent**\n",
      "  - India ranks **4th globally in private AI investments**[1].\n",
      "  - The country boasts **AI skill penetration 3x the global average**, with over 600,000 AI professionals and 16% of the world’s AI talent[1][3].\n",
      "\n",
      "---\n",
      "\n",
      "## 3. Key Drivers of AI Growth in India\n",
      "\n",
      "- **Expanding Tech Industry & Digital Infrastructure**\n",
      "  - India’s digital ecosystem, including Aadhaar, UPI, DigiLocker, and ONDC, provides a scalable foundation for AI integration[3].\n",
      "  - Over 700 million internet users and widespread smartphone adoption generate vast data for AI model training[3].\n",
      "\n",
      "- **Government Initiatives**\n",
      "  - The **National AI Strategy** (NITI Aayog) sets a roadmap for AI adoption and innovation[2][3].\n",
      "  - Flagship programs like **Digital India**, **Make in India**, and the **Smart Cities Mission** foster AI-driven transformation[3][4].\n",
      "  - The **National AI Portal** and **AI for All** program aim to democratize AI education and awareness[3].\n",
      "\n",
      "- **Academic & Research Ecosystem**\n",
      "  - Leading institutions such as **IITs, IISc, and ISI** drive cutting-edge AI research and talent development[3].\n",
      "\n",
      "- **Rise of AI Startups & Innovation Hubs**\n",
      "  - Over 2,000 AI startups have launched in the past three years, attracting significant investment and fueling innovation[3][4].\n",
      "\n",
      "---\n",
      "\n",
      "## 4. Major Sectors Impacted by AI\n",
      "\n",
      "- **Healthcare**: AI powers diagnostics, telemedicine, and personalized care, improving access and outcomes[2][4].\n",
      "- **Agriculture**: Predictive analytics, crop monitoring, and supply chain optimization enhance productivity and sustainability[2][4].\n",
      "- **Banking & Financial Services (BFSI)**: AI enables fraud detection and customer service automation, boosting efficiency[1][2].\n",
      "- **Retail & Consumer Goods**: Personalization and inventory management are revolutionized by AI-driven insights[1].\n",
      "- **Manufacturing & Energy**: Process automation and predictive maintenance reduce costs and downtime[1][4].\n",
      "- **Education**: Adaptive learning platforms and skill development tools personalize education and bridge gaps[2][4].\n",
      "- **Urban Planning & Smart Cities**: AI optimizes traffic management and resource allocation for smarter urban living[4].\n",
      "\n",
      "---\n",
      "\n",
      "## 5. Government Policies and Public-Private Partnerships\n",
      "\n",
      "- **Policy Frameworks & Funding**\n",
      "  - The government has increased funding for Digital India and AI research, supporting innovation and adoption[2][3].\n",
      "- **Centres of Excellence (CoE) & Research Grants**\n",
      "  - CoEs and targeted grants foster collaboration between academia, industry, and government[2][4].\n",
      "- **Global Tech Collaborations**\n",
      "  - Partnerships with Microsoft, Google, Nvidia, and AWS accelerate AI development and deployment[2].\n",
      "- **Multi-Stakeholder Collaboration**\n",
      "  - Public-private partnerships are essential for scaling AI solutions and ensuring responsible governance[4].\n",
      "\n",
      "---\n",
      "\n",
      "## 6. Challenges and Barriers\n",
      "\n",
      "- **Skill Gaps & Workforce Upskilling**\n",
      "  - Despite strong talent, there is a need for continuous upskilling to meet evolving AI demands[4].\n",
      "- **Data Privacy, Ethics, & Governance**\n",
      "  - Concerns around data protection, algorithmic bias, and ethical use of AI require robust frameworks[4].\n",
      "- **Sectoral Inefficiencies & Digital Divide**\n",
      "  - Uneven access to digital infrastructure and AI resources limits adoption in rural and underserved areas[4].\n",
      "- **Limited AI Investment Compared to Global Peers**\n",
      "  - While investment is growing, it remains lower than in leading AI economies, necessitating further capital inflow[1].\n",
      "\n",
      "---\n",
      "\n",
      "## 7. Opportunities and the Road Ahead\n",
      "\n",
      "- **Inclusive Growth & Socio-Economic Development**\n",
      "  - AI can drive inclusive growth by addressing healthcare, education, and agricultural challenges at scale[4].\n",
      "- **Trillion-Dollar Digital Economy Potential**\n",
      "  - By 2025, AI could help create a **trillion-dollar digital economy**, transforming India’s global economic standing[4].\n",
      "- **Global AI Governance & Ethics**\n",
      "  - India is positioned to shape international norms on AI governance, ethics, and responsible innovation[4].\n",
      "- **Vision for “AI for India 2030”**\n",
      "  - The roadmap envisions widespread AI adoption, equitable access, and leadership in global AI standards[4].\n",
      "\n",
      "---\n",
      "\n",
      "## 8. Conclusion\n",
      "\n",
      "India’s progress in AI is reshaping its economic and social landscape, with robust growth, innovation, and policy support driving the sector forward. Continued investment, collaboration, and a focus on responsible AI adoption will be critical to realizing the full potential of AI for India and the world.\n",
      "\n",
      "---\n",
      "\n",
      "### Optional Enhancements\n",
      "\n",
      "- **Case Study**: *Qure.ai*, an Indian startup, uses AI-enabled analysis of chest X-rays for rapid COVID-19 detection, demonstrating the impact of AI in healthcare[1].\n",
      "- **Expert Quote**: “AI will be a key driver in achieving India’s vision of a $5 trillion economy,” notes a senior official from NITI Aayog[4].\n",
      "- **Infographic Suggestion**: Visualize India’s AI market growth, sectoral impact, and government initiatives for quick reference.\n",
      "- **Further Reading**: Explore reports from GMI Research, IMARC Group, BCG, and TechSci Research for deeper insights into India’s AI landscape[1][3][4].\n"
     ]
    }
   ],
   "source": [
    "print(final_state['content'])"
   ]
  },
  {
   "cell_type": "code",
   "execution_count": null,
   "id": "ca21b153",
   "metadata": {},
   "outputs": [],
   "source": []
  }
 ],
 "metadata": {
  "kernelspec": {
   "display_name": "Python 3",
   "language": "python",
   "name": "python3"
  },
  "language_info": {
   "codemirror_mode": {
    "name": "ipython",
    "version": 3
   },
   "file_extension": ".py",
   "mimetype": "text/x-python",
   "name": "python",
   "nbconvert_exporter": "python",
   "pygments_lexer": "ipython3",
   "version": "3.13.7"
  }
 },
 "nbformat": 4,
 "nbformat_minor": 5
}
