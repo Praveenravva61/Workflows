{
 "cells": [
  {
   "cell_type": "code",
   "execution_count": 1,
   "id": "78ed6404",
   "metadata": {},
   "outputs": [],
   "source": [
    "from langgraph.graph import StateGraph, START, END\n",
    "from typing import TypedDict\n",
    "from langchain_openai import ChatOpenAI\n",
    "from dotenv import load_dotenv\n",
    "from langgraph.checkpoint.memory import InMemorySaver\n",
    "import os\n",
    "import warnings\n",
    "warnings.filterwarnings(\"ignore\")"
   ]
  },
  {
   "cell_type": "code",
   "execution_count": 2,
   "id": "a8a088cb",
   "metadata": {},
   "outputs": [],
   "source": [
    "load_dotenv()\n",
    "\n",
    "PERPLEXITY_API_KEY = os.getenv(\"PERPLEXITY_API_KEY\")\n",
    "\n",
    "model = ChatOpenAI(\n",
    "    model=\"sonar\",                     # base Sonar model\n",
    "    base_url=\"https://api.perplexity.ai\",\n",
    "    api_key=PERPLEXITY_API_KEY,\n",
    "    temperature=0.7\n",
    ")"
   ]
  },
  {
   "cell_type": "code",
   "execution_count": 3,
   "id": "71438f0f",
   "metadata": {},
   "outputs": [],
   "source": [
    "class JokeState(TypedDict):\n",
    "    topic: str\n",
    "    joke: str\n",
    "    explanation: str\n",
    "    "
   ]
  },
  {
   "cell_type": "code",
   "execution_count": 4,
   "id": "a9edad12",
   "metadata": {},
   "outputs": [],
   "source": [
    "def generate_joke(state: JokeState):\n",
    "    prompt = f\"generate a joke on the given topic {state['topic']}\"\n",
    "    response = model.invoke(prompt).content\n",
    "    return {\"joke\": response}\n",
    "\n",
    "def generate_explanation(state: JokeState):\n",
    "    prompt = f\"generate explanation of given joke {state['joke']}\"\n",
    "    response = model.invoke(prompt).content\n",
    "    return {\"explanation\": response}"
   ]
  },
  {
   "cell_type": "code",
   "execution_count": 5,
   "id": "0645ff4e",
   "metadata": {},
   "outputs": [],
   "source": [
    "graph = StateGraph(JokeState)\n",
    "\n",
    "graph.add_node(\"generate_joke\", generate_joke)\n",
    "graph.add_node(\"generate_explanation\", generate_explanation)\n",
    "\n",
    "graph.add_edge(START, \"generate_joke\")\n",
    "graph.add_edge(\"generate_joke\", \"generate_explanation\")\n",
    "graph.add_edge(\"generate_explanation\", END)\n",
    "\n",
    "checkPointer = InMemorySaver()\n",
    "\n",
    "workflow = graph.compile(checkpointer=checkPointer)"
   ]
  },
  {
   "cell_type": "code",
   "execution_count": 6,
   "id": "7a69c683",
   "metadata": {},
   "outputs": [
    {
     "data": {
      "image/png": "[encoded data removed]",
      "text/plain": [
       "<langgraph.graph.state.CompiledStateGraph object at 0x000001D546DE5940>"
      ]
     },
     "execution_count": 6,
     "metadata": {},
     "output_type": "execute_result"
    }
   ],
   "source": [
    "workflow"
   ]
  },
  {
   "cell_type": "code",
   "execution_count": 7,
   "id": "a0c92b36",
   "metadata": {},
   "outputs": [
    {
     "data": {
      "text/plain": [
       "{'topic': 'IT JOBS',\n",
       " 'joke': 'Here\\'s a joke on the topic of IT jobs:\\n\\n**Why do software developers never get locked out of their houses?**  \\nBecause they always have the *keys* to the code!  \\n\\nThis plays on the programming concept of \"keys\" (like in databases or encryption) and the idea of having keys to a house, blending an IT job term with everyday life humor[1][2].',\n",
       " 'explanation': 'Here’s an explanation of the joke:\\n\\n**Why do software developers never get locked out of their houses?**  \\n**Because they always have the *keys* to the code!**\\n\\n## Double Meaning of \"Keys\"\\n\\n- **Literal Meaning:** In everyday life, a \"key\" is what you use to unlock your house.\\n- **Technical Meaning:** In programming, a \"key\" often refers to a unique identifier in databases or a piece of information used in encryption and authentication systems.\\n\\n## Humor Mechanics\\n\\nThe joke works by blending these two meanings. Software developers are humorously portrayed as never getting locked out—not because they’re careful with their physical keys, but because they always have access to the \"keys\" in their code. The punchline relies on the listener recognizing both the everyday and technical uses of the word \"key,\" creating a playful crossover between the world of IT and daily life.\\n\\n## Why It’s Funny\\n\\nThis type of humor is common among developers, who often use technical terms in everyday contexts for comedic effect[1][2]. The joke is especially amusing to those familiar with programming, as it highlights a unique aspect of their work in a relatable, light-hearted way. It’s a classic example of how IT professionals use wordplay to connect with each other and relieve the monotony of their work[3].'}"
      ]
     },
     "execution_count": 7,
     "metadata": {},
     "output_type": "execute_result"
    }
   ],
   "source": [
    "config1 = {\"configurable\": {\"thread_id\": \"1\"}}\n",
    "workflow.invoke({'topic':'IT JOBS'}, config=config1)"
   ]
  },
  {
   "cell_type": "code",
   "execution_count": null,
   "id": "e8ecd6ab",
   "metadata": {},
   "outputs": [],
   "source": []
  },
  {
   "cell_type": "code",
   "execution_count": null,
   "id": "5c69fcce",
   "metadata": {},
   "outputs": [],
   "source": []
  },
  {
   "cell_type": "code",
   "execution_count": null,
   "id": "50621062",
   "metadata": {},
   "outputs": [],
   "source": []
  },
  {
   "cell_type": "code",
   "execution_count": null,
   "id": "001f093f",
   "metadata": {},
   "outputs": [],
   "source": []
  }
 ],
 "metadata": {
  "kernelspec": {
   "display_name": "Python 3",
   "language": "python",
   "name": "python3"
  },
  "language_info": {
   "codemirror_mode": {
    "name": "ipython",
    "version": 3
   },
   "file_extension": ".py",
   "mimetype": "text/x-python",
   "name": "python",
   "nbconvert_exporter": "python",
   "pygments_lexer": "ipython3",
   "version": "3.13.7"
  }
 },
 "nbformat": 4,
 "nbformat_minor": 5
}
