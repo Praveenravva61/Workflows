{
 "cells": [
  {
   "cell_type": "code",
   "execution_count": 4,
   "id": "6adeeb78",
   "metadata": {},
   "outputs": [],
   "source": [
    "from langgraph.graph import StateGraph, START, END\n",
    "from langchain_openai import ChatOpenAI\n",
    "from dotenv import load_dotenv\n",
    "from typing import TypedDict, Annotated\n",
    "from pydantic import BaseModel, Field\n",
    "import operator\n",
    "import os"
   ]
  },
  {
   "cell_type": "code",
   "execution_count": 5,
   "id": "4d036283",
   "metadata": {},
   "outputs": [],
   "source": [
    "load_dotenv()\n",
    "\n",
    "PERPLEXITY_API_KEY = os.getenv(\"PERPLEXITY_API_KEY\")\n",
    "\n",
    "model = ChatOpenAI(\n",
    "    model=\"sonar\",                     # base Sonar model\n",
    "    base_url=\"https://api.perplexity.ai\",\n",
    "    api_key=PERPLEXITY_API_KEY,\n",
    "    temperature=0.7\n",
    ")"
   ]
  },
  {
   "cell_type": "code",
   "execution_count": 6,
   "id": "39ebcf04",
   "metadata": {},
   "outputs": [
    {
     "data": {
      "text/plain": [
       "AIMessage(content='The **capital of India is New Delhi**. It is part of the National Capital Territory (NCT) of Delhi and serves as the seat of all three branches of the Indian government, including the Rashtrapati Bhavan (Presidential Palace), Sansad Bhavan (Parliament House), and the Supreme Court[1][2][7].\\n\\nNew Delhi was officially inaugurated as the capital in 1931, replacing Calcutta (now Kolkata) as the capital of British India. It was designed by British architects Edwin Lutyens and Herbert Baker, and is located in the north-central part of India on the west bank of the Yamuna River[1][2][7].\\n\\nWhile “Delhi” broadly refers to the larger metropolitan area or National Capital Territory, **New Delhi is the specific municipality designated as the capital**[1][4]. \\n\\nIn summary:\\n\\n| Aspect                | Details                                    |\\n|-----------------------|--------------------------------------------|\\n| Capital city          | New Delhi                                  |\\n| Location              | North-central India, within Delhi NCT      |\\n| Coordinates           | Approximately 28.6139° N, 77.2090° E      |\\n| Established as capital| Officially in 1931 (foundation laid in 1911) |\\n| Designers             | Edwin Lutyens and Herbert Baker            |\\n| Role                  | Seat of government and political center    |\\n\\nThis is the widely recognized and official capital of India today[1][2][3][7][9].', additional_kwargs={'refusal': None}, response_metadata={'token_usage': {'completion_tokens': 304, 'prompt_tokens': 7, 'total_tokens': 311, 'completion_tokens_details': None, 'prompt_tokens_details': None, 'search_context_size': 'low', 'cost': {'input_tokens_cost': 0.0, 'output_tokens_cost': 0.0, 'request_cost': 0.005, 'total_cost': 0.005}}, 'model_name': 'sonar', 'system_fingerprint': None, 'id': '2a9a67d4-d540-4f4b-aa87-5eb0c051662c', 'service_tier': None, 'finish_reason': 'stop', 'logprobs': None}, id='run--ab64b808-fdf9-48b8-8e13-3317c33d2f6f-0', usage_metadata={'input_tokens': 7, 'output_tokens': 304, 'total_tokens': 311, 'input_token_details': {}, 'output_token_details': {}})"
      ]
     },
     "execution_count": 6,
     "metadata": {},
     "output_type": "execute_result"
    }
   ],
   "source": [
    "model.invoke('what is the capital of the india')"
   ]
  },
  {
   "cell_type": "code",
   "execution_count": 7,
   "id": "13a12851",
   "metadata": {},
   "outputs": [],
   "source": [
    "class EvaluationSchema(BaseModel):\n",
    "\n",
    "    feedback: str = Field(description='Detailed feedbackfor the essay')\n",
    "    score: int = Field(description='Score out of 10', ge=0, le=10)"
   ]
  },
  {
   "cell_type": "code",
   "execution_count": 8,
   "id": "b685f826",
   "metadata": {},
   "outputs": [],
   "source": [
    "structured_model = model.with_structured_output(EvaluationSchema)"
   ]
  },
  {
   "cell_type": "code",
   "execution_count": 9,
   "id": "e5a52026",
   "metadata": {},
   "outputs": [],
   "source": [
    "essay = \"\"\"India in the Age of AI\n",
    "As the world enters a transformative era defined by artificial intelligence (AI), India stands at a critical juncture — one where it can either emerge as a global leader in AI innovation or risk falling behind in the technology race. The age of AI brings with it immense promise as well as unprecedented challenges, and how India navigates this landscape will shape its socio-economic and geopolitical future.\n",
    "\n",
    "India's strengths in the AI domain are rooted in its vast pool of skilled engineers, a thriving IT industry, and a growing startup ecosystem. With over 5 million STEM graduates annually and a burgeoning base of AI researchers, India possesses the intellectual capital required to build cutting-edge AI systems. Institutions like IITs, IIITs, and IISc have begun fostering AI research, while private players such as TCS, Infosys, and Wipro are integrating AI into their global services. In 2020, the government launched the National AI Strategy (AI for All) with a focus on inclusive growth, aiming to leverage AI in healthcare, agriculture, education, and smart mobility.\n",
    "\n",
    "One of the most promising applications of AI in India lies in agriculture, where predictive analytics can guide farmers on optimal sowing times, weather forecasts, and pest control. In healthcare, AI-powered diagnostics can help address India’s doctor-patient ratio crisis, particularly in rural areas. Educational platforms are increasingly using AI to personalize learning paths, while smart governance tools are helping improve public service delivery and fraud detection.\n",
    "\n",
    "However, the path to AI-led growth is riddled with challenges. Chief among them is the digital divide. While metropolitan cities may embrace AI-driven solutions, rural India continues to struggle with basic internet access and digital literacy. The risk of job displacement due to automation also looms large, especially for low-skilled workers. Without effective skilling and re-skilling programs, AI could exacerbate existing socio-economic inequalities.\n",
    "\n",
    "Another pressing concern is data privacy and ethics. As AI systems rely heavily on vast datasets, ensuring that personal data is used transparently and responsibly becomes vital. India is still shaping its data protection laws, and in the absence of a strong regulatory framework, AI systems may risk misuse or bias.\n",
    "\n",
    "To harness AI responsibly, India must adopt a multi-stakeholder approach involving the government, academia, industry, and civil society. Policies should promote open datasets, encourage responsible innovation, and ensure ethical AI practices. There is also a need for international collaboration, particularly with countries leading in AI research, to gain strategic advantage and ensure interoperability in global systems.\n",
    "\n",
    "India’s demographic dividend, when paired with responsible AI adoption, can unlock massive economic growth, improve governance, and uplift marginalized communities. But this vision will only materialize if AI is seen not merely as a tool for automation, but as an enabler of human-centered development.\n",
    "\n",
    "In conclusion, India in the age of AI is a story in the making — one of opportunity, responsibility, and transformation. The decisions we make today will not just determine India’s AI trajectory, but also its future as an inclusive, equitable, and innovation-driven society.\"\"\""
   ]
  },
  {
   "cell_type": "code",
   "execution_count": 10,
   "id": "81a54345",
   "metadata": {},
   "outputs": [
    {
     "data": {
      "text/plain": [
       "'The essay \"India in the Age of AI\" demonstrates strong language quality characterized by clarity, coherence, and formal academic tone. The vocabulary is precise and appropriately technical, reflecting a good command of the subject matter. The structure is logical, with well-organized paragraphs that transition smoothly, providing a clear progression of ideas from India\\'s strengths and opportunities in AI to the challenges and policy recommendations. The essay maintains an objective and impersonal tone, avoiding personal pronouns and emotive language, which aligns well with academic writing standards. Furthermore, the essay uses specific examples and evidence, such as references to national initiatives and industry players, to support its claims, enhancing its credibility. However, there is room to improve conciseness in a few places to avoid slight redundancy, and some sentences could be more succinct without losing meaning. Overall, the essay effectively balances analytical depth with accessibility, making it informative and engaging for an academic audience interested in AI\\'s impact on India.'"
      ]
     },
     "execution_count": 10,
     "metadata": {},
     "output_type": "execute_result"
    }
   ],
   "source": [
    "prompt = f'Evaluate the language quality of the following essay and provide a feedback and assign a score out of 10 \\n {essay}'\n",
    "structured_model.invoke(prompt).feedback"
   ]
  },
  {
   "cell_type": "code",
   "execution_count": 11,
   "id": "ce0010cd",
   "metadata": {},
   "outputs": [],
   "source": [
    "class UPSCState(TypedDict):\n",
    "\n",
    "    essay: str\n",
    "    language_feedback: str\n",
    "    analysis_feedback: str\n",
    "    clarity_feedback: str\n",
    "    overall_feedback: str\n",
    "    individual_scores: Annotated[list[int], operator.add]\n",
    "    avg_score: float"
   ]
  },
  {
   "cell_type": "code",
   "execution_count": 12,
   "id": "021f54c3",
   "metadata": {},
   "outputs": [],
   "source": [
    "def evaluate_language(state: UPSCState):\n",
    "\n",
    "    prompt = f'Evaluate the language quality of the following essay and provide a feedback and assign a score out of 10 \\n {state[\"essay\"]}'\n",
    "    output = structured_model.invoke(prompt)\n",
    "\n",
    "    return {'language_feedback': output.feedback, 'individual_scores': [output.score]}"
   ]
  },
  {
   "cell_type": "code",
   "execution_count": 13,
   "id": "4eade564",
   "metadata": {},
   "outputs": [],
   "source": [
    "def evaluate_analysis(state: UPSCState):\n",
    "\n",
    "    prompt = f'Evaluate the depth of analysis of the following essay and provide a feedback and assign a score out of 10 \\n {state[\"essay\"]}'\n",
    "    output = structured_model.invoke(prompt)\n",
    "\n",
    "    return {'analysis_feedback': output.feedback, 'individual_scores': [output.score]}"
   ]
  },
  {
   "cell_type": "code",
   "execution_count": 14,
   "id": "ba9dc97b",
   "metadata": {},
   "outputs": [],
   "source": [
    "def evaluate_thought(state: UPSCState):\n",
    "\n",
    "    prompt = f'Evaluate the clarity of thought of the following essay and provide a feedback and assign a score out of 10 \\n {state[\"essay\"]}'\n",
    "    output = structured_model.invoke(prompt)\n",
    "\n",
    "    return {'clarity_feedback': output.feedback, 'individual_scores': [output.score]}"
   ]
  },
  {
   "cell_type": "code",
   "execution_count": 15,
   "id": "147996d8",
   "metadata": {},
   "outputs": [],
   "source": [
    "def final_evaluation(state: UPSCState):\n",
    "\n",
    "    # summary feedback\n",
    "    prompt = f'Based on the following feedbacks create a summarized feedback \\n language feedback - {state[\"language_feedback\"]} \\n depth of analysis feedback - {state[\"analysis_feedback\"]} \\n clarity of thought feedback - {state[\"clarity_feedback\"]}'\n",
    "    overall_feedback = model.invoke(prompt).content\n",
    "\n",
    "    # avg calculate\n",
    "    avg_score = sum(state['individual_scores'])/len(state['individual_scores'])\n",
    "\n",
    "    return {'overall_feedback': overall_feedback, 'avg_score': avg_score}\n",
    "    "
   ]
  },
  {
   "cell_type": "code",
   "execution_count": 16,
   "id": "b288b925",
   "metadata": {},
   "outputs": [],
   "source": [
    "graph = StateGraph(UPSCState)\n",
    "\n",
    "graph.add_node('evaluate_language', evaluate_language)\n",
    "graph.add_node('evaluate_analysis', evaluate_analysis)\n",
    "graph.add_node('evaluate_thought', evaluate_thought)\n",
    "graph.add_node('final_evaluation', final_evaluation)\n",
    "\n",
    "# edges\n",
    "graph.add_edge(START, 'evaluate_language')\n",
    "graph.add_edge(START, 'evaluate_analysis')\n",
    "graph.add_edge(START, 'evaluate_thought')\n",
    "\n",
    "graph.add_edge('evaluate_language', 'final_evaluation')\n",
    "graph.add_edge('evaluate_analysis', 'final_evaluation')\n",
    "graph.add_edge('evaluate_thought', 'final_evaluation')\n",
    "\n",
    "graph.add_edge('final_evaluation', END)\n",
    "\n",
    "workflow = graph.compile()\n",
    "\n"
   ]
  },
  {
   "cell_type": "code",
   "execution_count": 17,
   "id": "b778ae72",
   "metadata": {},
   "outputs": [
    {
     "data": {
      "image/png": "[encoded data removed]",
      "text/plain": [
       "<langgraph.graph.state.CompiledStateGraph object at 0x000001A338E47CB0>"
      ]
     },
     "execution_count": 17,
     "metadata": {},
     "output_type": "execute_result"
    }
   ],
   "source": [
    "workflow"
   ]
  },
  {
   "cell_type": "code",
   "execution_count": 18,
   "id": "39baeb95",
   "metadata": {},
   "outputs": [
    {
     "data": {
      "text/plain": [
       "{'essay': \"India in the Age of AI\\nAs the world enters a transformative era defined by artificial intelligence (AI), India stands at a critical juncture — one where it can either emerge as a global leader in AI innovation or risk falling behind in the technology race. The age of AI brings with it immense promise as well as unprecedented challenges, and how India navigates this landscape will shape its socio-economic and geopolitical future.\\n\\nIndia's strengths in the AI domain are rooted in its vast pool of skilled engineers, a thriving IT industry, and a growing startup ecosystem. With over 5 million STEM graduates annually and a burgeoning base of AI researchers, India possesses the intellectual capital required to build cutting-edge AI systems. Institutions like IITs, IIITs, and IISc have begun fostering AI research, while private players such as TCS, Infosys, and Wipro are integrating AI into their global services. In 2020, the government launched the National AI Strategy (AI for All) with a focus on inclusive growth, aiming to leverage AI in healthcare, agriculture, education, and smart mobility.\\n\\nOne of the most promising applications of AI in India lies in agriculture, where predictive analytics can guide farmers on optimal sowing times, weather forecasts, and pest control. In healthcare, AI-powered diagnostics can help address India’s doctor-patient ratio crisis, particularly in rural areas. Educational platforms are increasingly using AI to personalize learning paths, while smart governance tools are helping improve public service delivery and fraud detection.\\n\\nHowever, the path to AI-led growth is riddled with challenges. Chief among them is the digital divide. While metropolitan cities may embrace AI-driven solutions, rural India continues to struggle with basic internet access and digital literacy. The risk of job displacement due to automation also looms large, especially for low-skilled workers. Without effective skilling and re-skilling programs, AI could exacerbate existing socio-economic inequalities.\\n\\nAnother pressing concern is data privacy and ethics. As AI systems rely heavily on vast datasets, ensuring that personal data is used transparently and responsibly becomes vital. India is still shaping its data protection laws, and in the absence of a strong regulatory framework, AI systems may risk misuse or bias.\\n\\nTo harness AI responsibly, India must adopt a multi-stakeholder approach involving the government, academia, industry, and civil society. Policies should promote open datasets, encourage responsible innovation, and ensure ethical AI practices. There is also a need for international collaboration, particularly with countries leading in AI research, to gain strategic advantage and ensure interoperability in global systems.\\n\\nIndia’s demographic dividend, when paired with responsible AI adoption, can unlock massive economic growth, improve governance, and uplift marginalized communities. But this vision will only materialize if AI is seen not merely as a tool for automation, but as an enabler of human-centered development.\\n\\nIn conclusion, India in the age of AI is a story in the making — one of opportunity, responsibility, and transformation. The decisions we make today will not just determine India’s AI trajectory, but also its future as an inclusive, equitable, and innovation-driven society.\",\n",
       " 'language_feedback': 'The essay on \"India in the Age of AI\" demonstrates a clear, focused, and coherent exploration of the topic, effectively addressing India\\'s opportunities and challenges in adopting artificial intelligence. The language quality is strong, featuring appropriate academic tone, precise vocabulary, and well-structured sentences that enhance readability and engagement. The essay employs varied sentence structures and sophisticated vocabulary relevant to the topic, such as \"predictive analytics,\" \"digital divide,\" and \"multi-stakeholder approach,\" which reflect a good command of technical and formal language.\\n\\nParagraphing is well-managed, with each paragraph centered on a distinct subtopic, contributing to logical progression and clarity. Transitions between ideas are smooth, maintaining flow and cohesion throughout the essay. Minor issues, such as occasional wordiness or slight repetitiveness, do not detract significantly from the overall quality.\\n\\nMechanics, including punctuation and spelling, are accurate, supporting clear communication without distractions. The style is consistent, maintaining an objective and professional tone suitable for an academic or policy-oriented audience.\\n\\nOverall, the essay fulfills the criteria for effective academic writing: it stays on topic (focus), develops ideas with relevant examples (development), is well-organized, and uses language appropriately (style and conventions). It demonstrates high-level written accuracy and vocabulary activation, with only minor imperfections.\\n\\nScore: 9/10',\n",
       " 'analysis_feedback': 'The essay \"India in the Age of AI\" provides a comprehensive overview of India\\'s current position and potential in the artificial intelligence landscape. It effectively covers India\\'s strengths, such as its large STEM workforce, established IT industry, and growing startup ecosystem, along with government initiatives like the National AI Strategy. The essay also highlights promising AI applications in agriculture, healthcare, education, and governance, demonstrating an understanding of sector-specific impacts.\\n\\nThe analysis addresses critical challenges, including the digital divide, job displacement risks, and data privacy concerns, which adds depth and balance to the discussion. Furthermore, it emphasizes the need for a multi-stakeholder approach and ethical AI deployment, reflecting awareness of broader socio-political considerations.\\n\\nHowever, while the essay touches on key themes, it remains largely descriptive rather than deeply analytical. It could benefit from integrating more data-driven insights or case studies to substantiate claims, such as quantitative assessments of AI\\'s economic impact or examples of successful AI implementations in India. Additionally, it does not critically engage with the complexities of AI policy development or the competitive global AI landscape in detail, areas highlighted in recent reports.\\n\\nOverall, the essay offers a solid introductory analysis with clear structure and relevant points, but it lacks the depth and critical engagement expected for a more advanced evaluation of India\\'s AI trajectory.',\n",
       " 'clarity_feedback': 'The essay \"India in the Age of AI\" demonstrates a clear and coherent thought process, effectively presenting India\\'s current position, strengths, and challenges in the AI domain. The structure is logical, beginning with India\\'s potential and resources, moving through promising AI applications, and then addressing significant hurdles such as the digital divide and ethical concerns. The discussion on multi-stakeholder collaboration and responsible adoption further enriches the narrative by highlighting practical pathways forward. The language is precise, accessible, and professional, maintaining a balanced tone without unnecessary jargon or ambiguity. Each paragraph builds upon the previous one, contributing to a comprehensive overview without digressing. However, the essay could be strengthened with more concrete data points or references to recent initiatives and investments to support claims, thereby enhancing credibility. Additionally, while challenges are mentioned, more specific strategies or policy recommendations could improve the prescriptive aspect. Overall, the essay is well-articulated with a strong clarity of thought, effectively communicating the complexities and opportunities of AI in India.',\n",
       " 'overall_feedback': 'The essay \"India in the Age of AI\" is a well-written and coherent piece that effectively explores India\\'s opportunities and challenges in adopting artificial intelligence. It demonstrates strong language skills with an academic tone, precise vocabulary, and well-structured sentences that enhance readability and engagement. Paragraphs are logically organized around distinct subtopics with smooth transitions, and mechanics such as punctuation and spelling are accurate. The style remains consistent and professional, suitable for an academic or policy audience. Minor issues like occasional wordiness do not significantly affect the overall quality. Overall, it fulfills the criteria for effective academic writing, earning a high score of 9/10.\\n\\nIn terms of depth of analysis, the essay provides a comprehensive overview of India\\'s AI landscape, highlighting strengths such as the STEM workforce, IT industry, and government initiatives, as well as promising AI applications across sectors like agriculture and healthcare. It addresses key challenges including the digital divide, job displacement, and data privacy, and emphasizes ethical AI deployment and multi-stakeholder collaboration. However, the analysis is more descriptive than deeply analytical and could be improved by incorporating data-driven insights, case studies, and a more critical engagement with AI policy complexities and the global AI context.\\n\\nRegarding clarity of thought, the essay presents a logical and coherent flow, effectively communicating India\\'s AI potential, applications, and challenges. The language is precise and accessible without unnecessary jargon, and each paragraph builds on the previous one to maintain focus. Nevertheless, the essay would benefit from adding concrete data points, references to recent initiatives, and more specific policy recommendations to strengthen credibility and prescriptiveness.\\n\\nIn summary, the essay excels in language quality, coherence, and clarity of thought, offering a strong introductory analysis of India\\'s AI scenario. It could be enhanced by deeper analytical content, more empirical support, and detailed strategic insights for a more advanced evaluation.',\n",
       " 'individual_scores': [7, 9, 8],\n",
       " 'avg_score': 8.0}"
      ]
     },
     "execution_count": 18,
     "metadata": {},
     "output_type": "execute_result"
    }
   ],
   "source": [
    "intial_state = {\n",
    "    'essay': essay\n",
    "}\n",
    "\n",
    "workflow.invoke(intial_state)"
   ]
  },
  {
   "cell_type": "code",
   "execution_count": 19,
   "id": "d7eef78e",
   "metadata": {},
   "outputs": [],
   "source": [
    "essay2 = \"\"\"India and AI Time\n",
    "\n",
    "Now world change very fast because new tech call Artificial Intel… something (AI). India also want become big in this AI thing. If work hard, India can go top. But if no careful, India go back.\n",
    "\n",
    "India have many good. We have smart student, many engine-ear, and good IT peoples. Big company like TCS, Infosys, Wipro already use AI. Government also do program “AI for All”. It want AI in farm, doctor place, school and transport.\n",
    "\n",
    "In farm, AI help farmer know when to put seed, when rain come, how stop bug. In health, AI help doctor see sick early. In school, AI help student learn good. Government office use AI to find bad people and work fast.\n",
    "\n",
    "But problem come also. First is many villager no have phone or internet. So AI not help them. Second, many people lose job because AI and machine do work. Poor people get more bad.\n",
    "\n",
    "One more big problem is privacy. AI need big big data. Who take care? India still make data rule. If no strong rule, AI do bad.\n",
    "\n",
    "India must all people together – govern, school, company and normal people. We teach AI and make sure AI not bad. Also talk to other country and learn from them.\n",
    "\n",
    "If India use AI good way, we become strong, help poor and make better life. But if only rich use AI, and poor no get, then big bad thing happen.\n",
    "\n",
    "So, in short, AI time in India have many hope and many danger. We must go right road. AI must help all people, not only some. Then India grow big and world say \"good job India\".\"\"\""
   ]
  },
  {
   "cell_type": "code",
   "execution_count": 20,
   "id": "a4c8cfc6",
   "metadata": {},
   "outputs": [
    {
     "data": {
      "text/plain": [
       "{'essay': 'India and AI Time\\n\\nNow world change very fast because new tech call Artificial Intel… something (AI). India also want become big in this AI thing. If work hard, India can go top. But if no careful, India go back.\\n\\nIndia have many good. We have smart student, many engine-ear, and good IT peoples. Big company like TCS, Infosys, Wipro already use AI. Government also do program “AI for All”. It want AI in farm, doctor place, school and transport.\\n\\nIn farm, AI help farmer know when to put seed, when rain come, how stop bug. In health, AI help doctor see sick early. In school, AI help student learn good. Government office use AI to find bad people and work fast.\\n\\nBut problem come also. First is many villager no have phone or internet. So AI not help them. Second, many people lose job because AI and machine do work. Poor people get more bad.\\n\\nOne more big problem is privacy. AI need big big data. Who take care? India still make data rule. If no strong rule, AI do bad.\\n\\nIndia must all people together – govern, school, company and normal people. We teach AI and make sure AI not bad. Also talk to other country and learn from them.\\n\\nIf India use AI good way, we become strong, help poor and make better life. But if only rich use AI, and poor no get, then big bad thing happen.\\n\\nSo, in short, AI time in India have many hope and many danger. We must go right road. AI must help all people, not only some. Then India grow big and world say \"good job India\".',\n",
       " 'language_feedback': 'The essay demonstrates a clear intention to discuss the topic of AI in India, touching on benefits, challenges, and future directions. However, the language quality is quite basic and contains numerous grammatical, syntactical, and spelling errors that significantly impair clarity and professionalism. Sentence structures are often fragmented or ungrammatical, for example, \"Now world change very fast because new tech call Artificial Intel… something (AI)\" and \"India have many good.\" The vocabulary is very limited and sometimes incorrectly used (e.g., \"engine-ear\" instead of \"engineer\"), and there is inconsistent punctuation and capitalization. Paragraphing is minimal and cohesion between ideas could be improved with clearer transitions and connectors. The style is informal and simplistic, which weakens the persuasive and evaluative impact expected of an essay on this topic. While the essay covers multiple relevant points about AI’s applications and issues in India, the overall communicative effectiveness is reduced by linguistic inaccuracies and lack of sophistication. To improve, the writer should focus on correct grammar, expanding vocabulary, proper paragraph structure, and more formal style appropriate for an evaluative essay. This would enhance clarity, coherence, and credibility.',\n",
       " 'analysis_feedback': \"The essay presents a basic and straightforward overview of India's engagement with Artificial Intelligence (AI), touching on key positive aspects such as the presence of skilled people, involvement of major IT companies, government initiatives like “AI for All,” and potential AI applications in agriculture, healthcare, education, and governance. It also briefly acknowledges challenges including digital divide, job displacement, and data privacy issues. However, the analysis is quite superficial and simplistic, lacking depth, detailed evidence, or nuanced discussion. The essay does not incorporate any specific data, policy details, or strategic frameworks that are critical to understanding India's AI landscape, nor does it engage with the complexities or diverse perspectives found in authoritative sources. The language and structure are informal and contain grammatical errors that hinder clarity and professionalism. Overall, the essay shows a basic awareness of the topic but falls short of a thorough analytical treatment or critical insight expected at a higher academic or professional level.\",\n",
       " 'clarity_feedback': 'The essay presents a clear and straightforward discussion on India\\'s potential and challenges with Artificial Intelligence (AI). Its strength lies in covering multiple facets: India\\'s capabilities, government initiatives like \\'AI for All,\\' sector-specific applications (agriculture, health, education), and concerns including digital divide, job loss, and privacy. The essay communicates a hopeful yet cautious tone about AI\\'s impact on India.\\n\\nHowever, the clarity of thought is hindered by several issues: frequent grammatical errors, simplistic sentence structures, and colloquial language reduce precision and professionalism. The ideas, while logically connected, lack depth and nuance, and transitions between points are abrupt. Some expressions are vague or imprecise (e.g., \"AI do bad\"), which may confuse readers seeking detailed understanding.\\n\\nImproving vocabulary, sentence complexity, and polishing grammar would enhance clarity significantly. Adding more structured argumentation and examples would also help convey the points more convincingly. Overall, the essay communicates its core ideas but requires refinement for academic or professional standards.',\n",
       " 'overall_feedback': 'The essay on AI in India demonstrates a clear intention to discuss relevant benefits, challenges, and future directions, covering multiple key points such as skilled workforce, government initiatives, and sector-specific applications. However, the **language quality is basic and marred by frequent grammatical, syntactical, and spelling errors**, which significantly reduce clarity, professionalism, and communicative effectiveness. Sentence structures are often fragmented or simplistic, vocabulary is limited and sometimes misused, and paragraphing and transitions lack coherence, weakening the essay’s persuasive impact. The style is informal and simplistic, unsuitable for an evaluative academic essay.\\n\\nRegarding **depth of analysis**, the essay provides only a superficial overview without detailed evidence, data, or nuanced discussion of India’s AI landscape, missing critical policy details or strategic frameworks. It acknowledges challenges like digital divide and privacy issues but does not engage with complexities or diverse perspectives, limiting its analytical value.\\n\\nThe **clarity of thought** is straightforward but hindered by linguistic inaccuracies and abrupt transitions. Ideas are logically connected but lack depth and precision, with some vague or imprecise expressions that may confuse readers. Improving vocabulary, sentence complexity, grammar, and structuring arguments with examples would significantly enhance clarity and professionalism.\\n\\nOverall, the essay shows basic awareness of the topic but requires substantial improvement in **grammar, vocabulary, paragraph structure, formal style, and analytical depth** to meet higher academic or professional standards. Focusing on these areas will improve clarity, coherence, credibility, and the essay’s overall impact.',\n",
       " 'individual_scores': [3, 3, 5],\n",
       " 'avg_score': 3.6666666666666665}"
      ]
     },
     "execution_count": 20,
     "metadata": {},
     "output_type": "execute_result"
    }
   ],
   "source": [
    "intial_state = {\n",
    "    'essay': essay2\n",
    "}\n",
    "\n",
    "workflow.invoke(intial_state)"
   ]
  },
  {
   "cell_type": "code",
   "execution_count": null,
   "id": "c3b63c3d",
   "metadata": {},
   "outputs": [],
   "source": []
  }
 ],
 "metadata": {
  "kernelspec": {
   "display_name": "Python 3",
   "language": "python",
   "name": "python3"
  },
  "language_info": {
   "codemirror_mode": {
    "name": "ipython",
    "version": 3
   },
   "file_extension": ".py",
   "mimetype": "text/x-python",
   "name": "python",
   "nbconvert_exporter": "python",
   "pygments_lexer": "ipython3",
   "version": "3.13.7"
  }
 },
 "nbformat": 4,
 "nbformat_minor": 5
}
