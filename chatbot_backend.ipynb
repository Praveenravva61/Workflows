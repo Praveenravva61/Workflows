{
 "cells": [
  {
   "cell_type": "code",
   "execution_count": 1,
   "id": "0adb4cda",
   "metadata": {},
   "outputs": [],
   "source": [
    "from langgraph.graph import StateGraph, START, END\n",
    "from langgraph.graph.message import add_messages\n",
    "from langchain.chat_models import ChatOpenAI\n",
    "from langchain_core.messages import BaseMessage, HumanMessage, AIMessage\n",
    "from langchain_core.prompts import ChatPromptTemplate, MessagesPlaceholder\n",
    "from typing import TypedDict, Annotated\n",
    "from langchain_openai import ChatOpenAI\n",
    "from dotenv import load_dotenv\n",
    "import os\n",
    "from langgraph.checkpoint.memory import InMemorySaver\n"
   ]
  },
  {
   "cell_type": "code",
   "execution_count": 2,
   "id": "4eba7479",
   "metadata": {},
   "outputs": [],
   "source": [
    "load_dotenv()\n",
    "\n",
    "PERPLEXITY_API_KEY = os.getenv(\"PERPLEXITY_API_KEY\")\n",
    "\n",
    "model = ChatOpenAI(\n",
    "    model=\"sonar\",                     # base Sonar model\n",
    "    base_url=\"https://api.perplexity.ai\",\n",
    "    api_key=PERPLEXITY_API_KEY,\n",
    "    temperature=0.7\n",
    ")"
   ]
  },
  {
   "cell_type": "code",
   "execution_count": 3,
   "id": "fe87d8b2",
   "metadata": {},
   "outputs": [],
   "source": [
    "class ChatState(TypedDict):\n",
    "    messages: Annotated[list[BaseMessage], add_messages]"
   ]
  },
  {
   "cell_type": "code",
   "execution_count": 4,
   "id": "a676db71",
   "metadata": {},
   "outputs": [],
   "source": [
    "checkPoint = InMemorySaver()\n"
   ]
  },
  {
   "cell_type": "code",
   "execution_count": 7,
   "id": "20a14db3",
   "metadata": {},
   "outputs": [],
   "source": [
    "def chat_node(state: ChatState):\n",
    "    messages = state['messages']\n",
    "    response = model.invoke(messages)\n",
    "    return {\"messages\": [response]}\n"
   ]
  },
  {
   "cell_type": "code",
   "execution_count": 8,
   "id": "28ddd7d4",
   "metadata": {},
   "outputs": [],
   "source": [
    "graph = StateGraph(ChatState)\n",
    "\n",
    "graph.add_node(\"chat_node\", chat_node)\n",
    "graph.add_edge(START, \"chat_node\")\n",
    "graph.add_edge(\"chat_node\", END)\n",
    "\n",
    "chatbot = graph.compile()"
   ]
  },
  {
   "cell_type": "code",
   "execution_count": 10,
   "id": "8fa81620",
   "metadata": {},
   "outputs": [
    {
     "data": {
      "text/plain": [
       "{'messages': [HumanMessage(content='Hello! How are you?', additional_kwargs={}, response_metadata={}, id='f0f99edc-4bea-40b9-85de-cb02d2ed3071'),\n",
       "  AIMessage(content='Hello! I\\'m here to help you. How can I assist you today?  \\n\\nIf you are asking about the greeting \"Hello! How are you?\"—it\\'s a common and friendly way to start a conversation in English. It can be formal or informal depending on the context, and typical responses include \"I\\'m good, thanks. And you?\" or \"I\\'m fine, how about you?\"[1][3][5].  \\n\\nThere are many other ways to say hello or greet someone in English, ranging from formal (\"Good morning,\" \"Good evening\") to casual (\"Hey,\" \"Hi,\" \"What\\'s up?\")[1][3][5]. For example, informal greetings among friends might include \"Hey, how\\'s it going?\" or \"Yo!\"[5]. Children\\'s songs often use simple and repetitive greetings like \"Hello. How are you?\" combined with feelings or emotions to engage learners[2][4][6].', additional_kwargs={'refusal': None}, response_metadata={'token_usage': {'completion_tokens': 190, 'prompt_tokens': 6, 'total_tokens': 196, 'completion_tokens_details': None, 'prompt_tokens_details': None, 'search_context_size': 'low', 'cost': {'input_tokens_cost': 0.0, 'output_tokens_cost': 0.0, 'request_cost': 0.005, 'total_cost': 0.005}}, 'model_name': 'sonar', 'system_fingerprint': None, 'id': '7da3d33a-77d8-4ce0-bb82-8e3b2d1878d2', 'service_tier': None, 'finish_reason': 'stop', 'logprobs': None}, id='run--461f650f-edad-4c6a-ab4f-9caf4ddd7abc-0', usage_metadata={'input_tokens': 6, 'output_tokens': 190, 'total_tokens': 196, 'input_token_details': {}, 'output_token_details': {}})]}"
      ]
     },
     "execution_count": 10,
     "metadata": {},
     "output_type": "execute_result"
    }
   ],
   "source": [
    "chatbot.invoke({\"messages\": [HumanMessage(content=\"Hello! How are you?\")]}, checkpoint=checkPoint)"
   ]
  },
  {
   "cell_type": "code",
   "execution_count": null,
   "id": "9987f8c7",
   "metadata": {},
   "outputs": [],
   "source": []
  },
  {
   "cell_type": "code",
   "execution_count": null,
   "id": "f5348378",
   "metadata": {},
   "outputs": [],
   "source": []
  },
  {
   "cell_type": "code",
   "execution_count": null,
   "id": "b5b1bdf8",
   "metadata": {},
   "outputs": [],
   "source": []
  },
  {
   "cell_type": "code",
   "execution_count": null,
   "id": "9bdf69ff",
   "metadata": {},
   "outputs": [],
   "source": []
  },
  {
   "cell_type": "code",
   "execution_count": null,
   "id": "ab4d956e",
   "metadata": {},
   "outputs": [],
   "source": []
  }
 ],
 "metadata": {
  "kernelspec": {
   "display_name": "Python 3",
   "language": "python",
   "name": "python3"
  },
  "language_info": {
   "codemirror_mode": {
    "name": "ipython",
    "version": 3
   },
   "file_extension": ".py",
   "mimetype": "text/x-python",
   "name": "python",
   "nbconvert_exporter": "python",
   "pygments_lexer": "ipython3",
   "version": "3.13.7"
  }
 },
 "nbformat": 4,
 "nbformat_minor": 5
}
